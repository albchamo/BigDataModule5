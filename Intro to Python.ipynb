{
 "cells": [
  {
   "cell_type": "code",
   "execution_count": 3,
   "metadata": {},
   "outputs": [],
   "source": [
    "import math\n",
    "import numpy as np\n",
    "from scipy import stats"
   ]
  },
  {
   "cell_type": "markdown",
   "metadata": {},
   "source": [
    "Numpy is a general-purpose array-processing package. It provides a high-performance multidimensional array object, and tools for working with these arrays. It is the fundamental package for scientific computing with Python. Besides its obvious scientific uses, Numpy can also be used as an efficient multi-dimensional container of generic data. <- Linear Algebra\n",
    "\n",
    "SciPy is a python library that is useful in solving many mathematical equations and algorithms. It is designed on the top of Numpy library that gives more extension of finding scientific mathematical formulae like Matrix Rank, Inverse, polynomial equations, LU Decomposition, etc. Using its high level functions will significantly reduce the complexity of the code and helps in better analyzing the data. SciPy is an interactive Python session used as a data-processing library that is made to compete with its rivalries such as MATLAB, Octave, R-Lab,etc. It has many user-friendly, efficient and easy-to-use functions that helps to solve problems like numerical integration, interpolation, optimization, linear algebra and statistics.\n",
    "\n",
    "STATS This module contains a large number of probability distributions as well as a growing library of statistical functions.\n"
   ]
  },
  {
   "cell_type": "code",
   "execution_count": 5,
   "metadata": {},
   "outputs": [
    {
     "data": {
      "text/plain": [
       "array([[0.98665019, 0.85276585, 0.88432904, 0.79321027, 0.49616478],\n",
       "       [0.45970564, 0.29062256, 0.30077848, 0.5091533 , 0.14933602],\n",
       "       [0.21247773, 0.84172067, 0.1289289 , 0.6603362 , 0.4442086 ],\n",
       "       [0.14538278, 0.63920298, 0.70999043, 0.64522057, 0.33881822],\n",
       "       [0.40218848, 0.62593894, 0.6318676 , 0.79426559, 0.67752046]])"
      ]
     },
     "execution_count": 5,
     "metadata": {},
     "output_type": "execute_result"
    }
   ],
   "source": [
    "from numpy import random \n",
    "# uniform random numbers in [0,1]\n",
    "dataOne = np.random.rand(5,5)\n",
    "dataOne"
   ]
  },
  {
   "cell_type": "code",
   "execution_count": 12,
   "metadata": {},
   "outputs": [
    {
     "data": {
      "text/plain": [
       "0.12892890234665322"
      ]
     },
     "execution_count": 12,
     "metadata": {},
     "output_type": "execute_result"
    }
   ],
   "source": [
    "dataOne.min()"
   ]
  },
  {
   "cell_type": "code",
   "execution_count": 13,
   "metadata": {},
   "outputs": [
    {
     "data": {
      "text/plain": [
       "0.9866501921852119"
      ]
     },
     "execution_count": 13,
     "metadata": {},
     "output_type": "execute_result"
    }
   ],
   "source": [
    "dataOne.max()\n"
   ]
  },
  {
   "cell_type": "code",
   "execution_count": 14,
   "metadata": {},
   "outputs": [
    {
     "data": {
      "text/plain": [
       "0.5448313711560681"
      ]
     },
     "execution_count": 14,
     "metadata": {},
     "output_type": "execute_result"
    }
   ],
   "source": [
    "dataOne.mean()"
   ]
  },
  {
   "cell_type": "code",
   "execution_count": 15,
   "metadata": {},
   "outputs": [
    {
     "data": {
      "text/plain": [
       "0.5448313711560681"
      ]
     },
     "execution_count": 15,
     "metadata": {},
     "output_type": "execute_result"
    }
   ],
   "source": [
    "np.mean(dataOne)"
   ]
  },
  {
   "cell_type": "code",
   "execution_count": 16,
   "metadata": {},
   "outputs": [
    {
     "data": {
      "text/plain": [
       "13.6207842789017"
      ]
     },
     "execution_count": 16,
     "metadata": {},
     "output_type": "execute_result"
    }
   ],
   "source": [
    "np.sum(dataOne)"
   ]
  },
  {
   "cell_type": "code",
   "execution_count": 17,
   "metadata": {},
   "outputs": [
    {
     "data": {
      "text/plain": [
       "array([[0.45970564, 0.29062256, 0.30077848, 0.5091533 , 0.14933602],\n",
       "       [0.21247773, 0.84172067, 0.1289289 , 0.6603362 , 0.4442086 ]])"
      ]
     },
     "execution_count": 17,
     "metadata": {},
     "output_type": "execute_result"
    }
   ],
   "source": [
    "dataOne[1:3]"
   ]
  },
  {
   "cell_type": "code",
   "execution_count": 18,
   "metadata": {},
   "outputs": [
    {
     "data": {
      "text/plain": [
       "(5, 5)"
      ]
     },
     "execution_count": 18,
     "metadata": {},
     "output_type": "execute_result"
    }
   ],
   "source": [
    "np.shape(dataOne)"
   ]
  },
  {
   "cell_type": "code",
   "execution_count": 19,
   "metadata": {},
   "outputs": [
    {
     "data": {
      "text/plain": [
       "25"
      ]
     },
     "execution_count": 19,
     "metadata": {},
     "output_type": "execute_result"
    }
   ],
   "source": [
    "np.size(dataOne)"
   ]
  },
  {
   "cell_type": "markdown",
   "metadata": {},
   "source": [
    "Note that numpy.array is not the same as the Standard Python Library class array.array, which only handles one-dimensional arrays and offers less functionality. The more important attributes of an ndarray object are:\n",
    "\n",
    "ndarray.ndim the number of axes (dimensions) of the array.\n",
    "ndarray.shapethe dimensions of the array. This is a tuple of integers indicating the size of the array in each dimension. For a matrix with n rows and m columns, shape will be (n,m). The length of the shape tuple is therefore the number of axes, ndim.\n",
    "ndarray.sizethe total number of elements of the array. This is equal to the product of the elements of shape.\n",
    "ndarray.dtypean object describing the type of the elements in the array. One can create or specify dtype’s using standard Python types. Additionally NumPy provides types of its own. numpy.int32, numpy.int16, and numpy.float64 are some examples.\n",
    "ndarray.itemsizethe size in bytes of each element of the array. For example, an array of elements of type float64 has itemsize 8 (=64/8), while one of type complex32 has itemsize 4 (=32/8). It is equivalent to ndarray.dtype.itemsize.\n",
    "ndarray.datathe buffer containing the actual elements of the array. Normally, we won’t need to use this attribute because we will access the elements in an array using indexing facilities."
   ]
  },
  {
   "cell_type": "code",
   "execution_count": 20,
   "metadata": {},
   "outputs": [
    {
     "name": "stdout",
     "output_type": "stream",
     "text": [
      "I Love data Science\n"
     ]
    }
   ],
   "source": [
    "print('I Love data Science')"
   ]
  },
  {
   "cell_type": "code",
   "execution_count": 21,
   "metadata": {},
   "outputs": [
    {
     "name": "stdout",
     "output_type": "stream",
     "text": [
      "50.0\n"
     ]
    }
   ],
   "source": [
    "varOne = 25\n",
    "\n",
    "varTwo = 25.0\n",
    "\n",
    "varThree = varOne + varTwo\n",
    "\n",
    "print(varThree)"
   ]
  },
  {
   "cell_type": "code",
   "execution_count": 22,
   "metadata": {},
   "outputs": [
    {
     "ename": "TypeError",
     "evalue": "unsupported operand type(s) for +: 'int' and 'str'",
     "output_type": "error",
     "traceback": [
      "\u001b[1;31m---------------------------------------------------------------------------\u001b[0m",
      "\u001b[1;31mTypeError\u001b[0m                                 Traceback (most recent call last)",
      "\u001b[1;32m<ipython-input-22-b3dcd030aac8>\u001b[0m in \u001b[0;36m<module>\u001b[1;34m\u001b[0m\n\u001b[0;32m      3\u001b[0m \u001b[0mvarTwo\u001b[0m \u001b[1;33m=\u001b[0m \u001b[1;34m'Hello'\u001b[0m\u001b[1;33m\u001b[0m\u001b[1;33m\u001b[0m\u001b[0m\n\u001b[0;32m      4\u001b[0m \u001b[1;33m\u001b[0m\u001b[0m\n\u001b[1;32m----> 5\u001b[1;33m \u001b[0mvarThree\u001b[0m \u001b[1;33m=\u001b[0m \u001b[0mvarOne\u001b[0m \u001b[1;33m+\u001b[0m \u001b[0mvarTwo\u001b[0m\u001b[1;33m\u001b[0m\u001b[1;33m\u001b[0m\u001b[0m\n\u001b[0m\u001b[0;32m      6\u001b[0m \u001b[1;33m\u001b[0m\u001b[0m\n\u001b[0;32m      7\u001b[0m \u001b[0mprint\u001b[0m\u001b[1;33m(\u001b[0m\u001b[0mvarThree\u001b[0m\u001b[1;33m)\u001b[0m\u001b[1;33m\u001b[0m\u001b[1;33m\u001b[0m\u001b[0m\n",
      "\u001b[1;31mTypeError\u001b[0m: unsupported operand type(s) for +: 'int' and 'str'"
     ]
    }
   ],
   "source": [
    "varOne = 25\n",
    "\n",
    "varTwo = 'Hello'\n",
    "\n",
    "varThree = varOne + varTwo\n",
    "\n",
    "print(varThree)"
   ]
  },
  {
   "cell_type": "markdown",
   "metadata": {},
   "source": [
    "Numbers that don't have a decimal point are integers and are called \"int\" in python. You can't add a str and an int. But you can turn a number into a string if you use the str() function.\n",
    "\n"
   ]
  },
  {
   "cell_type": "code",
   "execution_count": 23,
   "metadata": {},
   "outputs": [
    {
     "name": "stdout",
     "output_type": "stream",
     "text": [
      "25 Hello\n"
     ]
    }
   ],
   "source": [
    "varOne = 25\n",
    "\n",
    "varTwo = ' Hello'\n",
    "\n",
    "varThree = str(varOne) + varTwo\n",
    "\n",
    "print(varThree)"
   ]
  },
  {
   "cell_type": "markdown",
   "metadata": {},
   "source": [
    "Define a variable that represents a dictionary with 5 INT elements\n",
    "\n",
    "Use functions from the math module to perform three different math operations on three of the five elements; you may find it easier to define variables for the elements. Feel free to combine elements as needed. Lastly, print out you results separately."
   ]
  },
  {
   "cell_type": "code",
   "execution_count": 24,
   "metadata": {},
   "outputs": [
    {
     "name": "stdout",
     "output_type": "stream",
     "text": [
      "[2, 5, 8, 4, 12]\n"
     ]
    }
   ],
   "source": [
    "new_dict = [2,5,8,4,12]\n",
    "print(new_dict)"
   ]
  },
  {
   "cell_type": "markdown",
   "metadata": {},
   "source": [
    "Use functions from the math module to perform three different math operations on three of the five elements; you may find it easier to define variables for the elements. Feel free to combine elements as needed. Lastly, print out you results separately."
   ]
  },
  {
   "cell_type": "code",
   "execution_count": 26,
   "metadata": {},
   "outputs": [
    {
     "data": {
      "text/plain": [
       "array([ 2.,  5.,  8.,  4., 12.])"
      ]
     },
     "execution_count": 26,
     "metadata": {},
     "output_type": "execute_result"
    }
   ],
   "source": [
    "np.ceil(new_dict)"
   ]
  },
  {
   "cell_type": "code",
   "execution_count": 27,
   "metadata": {},
   "outputs": [
    {
     "data": {
      "text/plain": [
       "array([ 2.,  5.,  8.,  4., 12.])"
      ]
     },
     "execution_count": 27,
     "metadata": {},
     "output_type": "execute_result"
    }
   ],
   "source": [
    "np.floor(new_dict)"
   ]
  },
  {
   "cell_type": "markdown",
   "metadata": {},
   "source": [
    "* **ceil(x)**\tReturns the smallest integer greater than or equal to x.\n",
    "* **copysign(x, y)**\tReturns x with the sign of y\n",
    "* **fabs(x)**\tReturns the absolute value of x\n",
    "* **factorial(x)**\tReturns the factorial of x\n",
    "* **floor(x)**\tReturns the largest integer less than or equal to x\n",
    "* **fmod(x, y)**\tReturns the remainder when x is divided by y\n",
    "* **frexp(x)**\tReturns the mantissa and exponent of x as the pair (m, e)\n",
    "* **fsum(iterable)**\tReturns an accurate floating point sum of values in the iterable\n",
    "* **isfinite(x)**\tReturns True if x is neither an infinity nor a NaN (Not a Number)\n",
    "* **isinf(x)**\tReturns True if x is a positive or negative infinity\n",
    "* **isnan(x)**\tReturns True if x is a NaN\n",
    "* **ldexp(x, i)**\tReturns x * (2**i)\n",
    "* **modf(x)**\tReturns the fractional and integer parts of x\n",
    "* **trunc(x)**\tReturns the truncated integer value of x\n",
    "* **exp(x)**\tReturns e**x\n",
    "* **expm1(x)**\tReturns e**x - 1\n",
    "* **log(x[, base])**\tReturns the logarithm of x to the base (defaults to e)\n",
    "* **log1p(x)**\tReturns the natural logarithm of 1+x\n",
    "* **log2(x)**\tReturns the base-2 logarithm of x\n",
    "* **log10(x)**\tReturns the base-10 logarithm of x\n",
    "* **pow(x, y)**\tReturns x raised to the power y\n",
    "* **sqrt(x)**\tReturns the square root of x\n",
    "* **acos(x)**\tReturns the arc cosine of x\n",
    "* **asin(x)**\tReturns the arc sine of x\n",
    "* **atan(x)**\tReturns the arc tangent of x\n",
    "* **atan2(y, x)**\tReturns atan(y / x)\n",
    "* **cos(x)**\tReturns the cosine of x\n",
    "* **hypot(x, y)**\tReturns the Euclidean norm, sqrt(x*x + y*y)\n",
    "* **sin(x)**\tReturns the sine of x\n",
    "* **tan(x)**\tReturns the tangent of x\n",
    "* **degrees(x)**\tConverts angle x from radians to degrees\n",
    "* **radians(x)**\tConverts angle x from degrees to radians\n",
    "* **acosh(x)**\tReturns the inverse hyperbolic cosine of x\n",
    "* **asinh(x)**\tReturns the inverse hyperbolic sine of x\n",
    "* **atanh(x)**\tReturns the inverse hyperbolic tangent of x\n",
    "* **cosh(x)**\tReturns the hyperbolic cosine of x\n",
    "* **sinh(x)**\tReturns the hyperbolic cosine of x\n",
    "* **tanh(x)**\tReturns the hyperbolic tangent of x\n",
    "* **erf(x)**\tReturns the error function at x\n",
    "* **erfc(x)**\tReturns the complementary error function at x\n",
    "* **gamma(x)**\tReturns the Gamma function at x\n",
    "* **lgamma(x)**\tReturns the natural logarithm of the absolute value of the Gamma function at x\n",
    "* **pi**\tMathematical constant, the ratio of circumference of a circle to it's diameter (3.14159...)\n",
    "* **e**\tmathematical constant e (2.71828...)"
   ]
  },
  {
   "cell_type": "code",
   "execution_count": null,
   "metadata": {},
   "outputs": [],
   "source": []
  }
 ],
 "metadata": {
  "kernelspec": {
   "display_name": "Python 3",
   "language": "python",
   "name": "python3"
  },
  "language_info": {
   "codemirror_mode": {
    "name": "ipython",
    "version": 3
   },
   "file_extension": ".py",
   "mimetype": "text/x-python",
   "name": "python",
   "nbconvert_exporter": "python",
   "pygments_lexer": "ipython3",
   "version": "3.7.4"
  }
 },
 "nbformat": 4,
 "nbformat_minor": 2
}
