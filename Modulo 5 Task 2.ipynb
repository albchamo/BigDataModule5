{
 "cells": [
  {
   "cell_type": "code",
   "execution_count": 1,
   "metadata": {},
   "outputs": [],
   "source": [
    "import numpy as np\n",
    "import pandas as pd\n",
    "from pandas import Series, DataFrame\n",
    "import matplotlib as mpl\n",
    "import matplotlib.pyplot as plt\n",
    "import seaborn as sns \n",
    "%matplotlib inline\n"
   ]
  },
  {
   "cell_type": "markdown",
   "metadata": {},
   "source": [
    "<h1>Lessons Learned Report: </h1>\n",
    "<h3>Alberto Chaves </h3>\n",
    "Packages used: \n",
    "\n",
    "**NumPy** is a library for the Python programming language, adding support for large, multi-dimensional arrays and matrices, along with a large collection of high-level mathematical functions to operate on these arrays.\n",
    "**Pandas** is a software library written for the Python programming language for data manipulation and analysis. In particular, it offers data structures and operations for manipulating numerical tables and time series.\n",
    "**Matplotlib** is a plotting library for the Python programming language and its numerical mathematics extension NumPy. It provides an object-oriented API for embedding plots into applications using general-purpose GUI toolkits like Tkinter, wxPython, Qt, or GTK+.\n",
    "**Seaborn** is a Python data visualization library based on matplotlib. It provides a high-level interface for drawing attractive and informative statistical graphics."
   ]
  },
  {
   "cell_type": "markdown",
   "metadata": {},
   "source": [
    "Attribute Information:\n",
    "\n",
    "This research employed a binary variable, default payment (Yes = 1, No = 0), as the\n",
    "response variable. This study reviewed the literature and used the following 23 variables\n",
    "as explanatory variables:\n",
    "LIMIT_BAL: Amount of the given credit (dollar): it includes both the individual consumer\n",
    "credit and his/her family (supplementary) credit.\n",
    "SEX: Gender (1 = male; 2 = female).\n",
    "EDUCATION: Education (1 = graduate school; 2 = university; 3 = high school; 0, 4, 5, 6 = others).\n",
    "MARRIAGE: Marital status (1 = married; 2 = single; 3 = divorce; 0=others).\n",
    "AGE: Age (year).\n",
    "(month)PAY: History of past payment. We tracked the past monthly payment records (from\n",
    "April to September, 2005)\n",
    "The measurement scale for the repayment status is:\n",
    "-2: No consumption; -1: Paid in full; 0: The use of revolving credit; 1 = payment delay\n",
    "for one month; 2 = payment delay for two months; . . .; 8 = payment delay for eight\n",
    "months; 9 = payment delay for nine months and above.\n",
    "(month)Bill: Amount of bill statement (NT dollar). X12 = amount of bill statement in\n",
    "September, 2005; X13 = amount of bill statement in August, 2005; . . .; X17 = amount of\n",
    "bill statement in April, 2005.\n",
    "(month)PAY: Amount of previous payment (NT dollar). X18 = amount paid in September,\n",
    "2005; X19 = amount paid in August, 2005; . . .;X23 = amount paid in April, 2005.\n",
    "Y: client's behavior; Y=0 then not default, Y=1 then default\""
   ]
  },
  {
   "cell_type": "code",
   "execution_count": 3,
   "metadata": {
    "scrolled": false
   },
   "outputs": [
    {
     "data": {
      "text/html": [
       "<div>\n",
       "<style scoped>\n",
       "    .dataframe tbody tr th:only-of-type {\n",
       "        vertical-align: middle;\n",
       "    }\n",
       "\n",
       "    .dataframe tbody tr th {\n",
       "        vertical-align: top;\n",
       "    }\n",
       "\n",
       "    .dataframe thead th {\n",
       "        text-align: right;\n",
       "    }\n",
       "</style>\n",
       "<table border=\"1\" class=\"dataframe\">\n",
       "  <thead>\n",
       "    <tr style=\"text-align: right;\">\n",
       "      <th></th>\n",
       "      <th>ID</th>\n",
       "      <th>LIMIT_BAL</th>\n",
       "      <th>SEX</th>\n",
       "      <th>EDUCATION</th>\n",
       "      <th>MARRIAGE</th>\n",
       "      <th>AGE</th>\n",
       "      <th>SeptemberPay</th>\n",
       "      <th>AugustPay</th>\n",
       "      <th>JulyPay</th>\n",
       "      <th>JunePay</th>\n",
       "      <th>...</th>\n",
       "      <th>JuneBill</th>\n",
       "      <th>MayBill</th>\n",
       "      <th>AprilBill</th>\n",
       "      <th>SeptemberPayment</th>\n",
       "      <th>AugustPayment</th>\n",
       "      <th>JulyPayment</th>\n",
       "      <th>JunePayment</th>\n",
       "      <th>MayPayment</th>\n",
       "      <th>AprilPayment</th>\n",
       "      <th>default payment next month</th>\n",
       "    </tr>\n",
       "  </thead>\n",
       "  <tbody>\n",
       "    <tr>\n",
       "      <td>0</td>\n",
       "      <td>1</td>\n",
       "      <td>20000</td>\n",
       "      <td>2</td>\n",
       "      <td>2</td>\n",
       "      <td>1</td>\n",
       "      <td>24</td>\n",
       "      <td>2</td>\n",
       "      <td>2</td>\n",
       "      <td>-1</td>\n",
       "      <td>-1</td>\n",
       "      <td>...</td>\n",
       "      <td>0</td>\n",
       "      <td>0</td>\n",
       "      <td>0</td>\n",
       "      <td>0</td>\n",
       "      <td>689</td>\n",
       "      <td>0</td>\n",
       "      <td>0</td>\n",
       "      <td>0</td>\n",
       "      <td>0</td>\n",
       "      <td>1</td>\n",
       "    </tr>\n",
       "    <tr>\n",
       "      <td>1</td>\n",
       "      <td>2</td>\n",
       "      <td>120000</td>\n",
       "      <td>2</td>\n",
       "      <td>2</td>\n",
       "      <td>2</td>\n",
       "      <td>26</td>\n",
       "      <td>-1</td>\n",
       "      <td>2</td>\n",
       "      <td>0</td>\n",
       "      <td>0</td>\n",
       "      <td>...</td>\n",
       "      <td>3272</td>\n",
       "      <td>3455</td>\n",
       "      <td>3261</td>\n",
       "      <td>0</td>\n",
       "      <td>1000</td>\n",
       "      <td>1000</td>\n",
       "      <td>1000</td>\n",
       "      <td>0</td>\n",
       "      <td>2000</td>\n",
       "      <td>1</td>\n",
       "    </tr>\n",
       "    <tr>\n",
       "      <td>2</td>\n",
       "      <td>3</td>\n",
       "      <td>90000</td>\n",
       "      <td>2</td>\n",
       "      <td>2</td>\n",
       "      <td>2</td>\n",
       "      <td>34</td>\n",
       "      <td>0</td>\n",
       "      <td>0</td>\n",
       "      <td>0</td>\n",
       "      <td>0</td>\n",
       "      <td>...</td>\n",
       "      <td>14331</td>\n",
       "      <td>14948</td>\n",
       "      <td>15549</td>\n",
       "      <td>1518</td>\n",
       "      <td>1500</td>\n",
       "      <td>1000</td>\n",
       "      <td>1000</td>\n",
       "      <td>1000</td>\n",
       "      <td>5000</td>\n",
       "      <td>0</td>\n",
       "    </tr>\n",
       "    <tr>\n",
       "      <td>3</td>\n",
       "      <td>4</td>\n",
       "      <td>50000</td>\n",
       "      <td>2</td>\n",
       "      <td>2</td>\n",
       "      <td>1</td>\n",
       "      <td>37</td>\n",
       "      <td>0</td>\n",
       "      <td>0</td>\n",
       "      <td>0</td>\n",
       "      <td>0</td>\n",
       "      <td>...</td>\n",
       "      <td>28314</td>\n",
       "      <td>28959</td>\n",
       "      <td>29547</td>\n",
       "      <td>2000</td>\n",
       "      <td>2019</td>\n",
       "      <td>1200</td>\n",
       "      <td>1100</td>\n",
       "      <td>1069</td>\n",
       "      <td>1000</td>\n",
       "      <td>0</td>\n",
       "    </tr>\n",
       "    <tr>\n",
       "      <td>4</td>\n",
       "      <td>5</td>\n",
       "      <td>50000</td>\n",
       "      <td>1</td>\n",
       "      <td>2</td>\n",
       "      <td>1</td>\n",
       "      <td>57</td>\n",
       "      <td>-1</td>\n",
       "      <td>0</td>\n",
       "      <td>-1</td>\n",
       "      <td>0</td>\n",
       "      <td>...</td>\n",
       "      <td>20940</td>\n",
       "      <td>19146</td>\n",
       "      <td>19131</td>\n",
       "      <td>2000</td>\n",
       "      <td>36681</td>\n",
       "      <td>10000</td>\n",
       "      <td>9000</td>\n",
       "      <td>689</td>\n",
       "      <td>679</td>\n",
       "      <td>0</td>\n",
       "    </tr>\n",
       "  </tbody>\n",
       "</table>\n",
       "<p>5 rows × 25 columns</p>\n",
       "</div>"
      ],
      "text/plain": [
       "   ID  LIMIT_BAL  SEX  EDUCATION  MARRIAGE  AGE  SeptemberPay  AugustPay  \\\n",
       "0   1      20000    2          2         1   24             2          2   \n",
       "1   2     120000    2          2         2   26            -1          2   \n",
       "2   3      90000    2          2         2   34             0          0   \n",
       "3   4      50000    2          2         1   37             0          0   \n",
       "4   5      50000    1          2         1   57            -1          0   \n",
       "\n",
       "   JulyPay  JunePay  ...  JuneBill  MayBill  AprilBill  SeptemberPayment  \\\n",
       "0       -1       -1  ...         0        0          0                 0   \n",
       "1        0        0  ...      3272     3455       3261                 0   \n",
       "2        0        0  ...     14331    14948      15549              1518   \n",
       "3        0        0  ...     28314    28959      29547              2000   \n",
       "4       -1        0  ...     20940    19146      19131              2000   \n",
       "\n",
       "   AugustPayment  JulyPayment  JunePayment  MayPayment  AprilPayment  \\\n",
       "0            689            0            0           0             0   \n",
       "1           1000         1000         1000           0          2000   \n",
       "2           1500         1000         1000        1000          5000   \n",
       "3           2019         1200         1100        1069          1000   \n",
       "4          36681        10000         9000         689           679   \n",
       "\n",
       "   default payment next month  \n",
       "0                           1  \n",
       "1                           1  \n",
       "2                           0  \n",
       "3                           0  \n",
       "4                           0  \n",
       "\n",
       "[5 rows x 25 columns]"
      ]
     },
     "execution_count": 3,
     "metadata": {},
     "output_type": "execute_result"
    }
   ],
   "source": [
    "credit = pd.read_csv('default_credit_card_clients.csv', header =0)\n",
    "credit.head()"
   ]
  },
  {
   "cell_type": "code",
   "execution_count": 4,
   "metadata": {
    "scrolled": true
   },
   "outputs": [
    {
     "data": {
      "text/plain": [
       "Index(['ID', 'LIMIT_BAL', 'SEX', 'EDUCATION', 'MARRIAGE', 'AGE',\n",
       "       'SeptemberPay', 'AugustPay', 'JulyPay', 'JunePay', 'MayPay', 'AprilPay',\n",
       "       'SeptemberBill', 'AugustBill', 'JulyBill', 'JuneBill', 'MayBill',\n",
       "       'AprilBill', 'SeptemberPayment', 'AugustPayment', 'JulyPayment',\n",
       "       'JunePayment', 'MayPayment', 'AprilPayment',\n",
       "       'default payment next month'],\n",
       "      dtype='object')"
      ]
     },
     "execution_count": 4,
     "metadata": {},
     "output_type": "execute_result"
    }
   ],
   "source": [
    "credit.columns"
   ]
  },
  {
   "cell_type": "code",
   "execution_count": 5,
   "metadata": {},
   "outputs": [
    {
     "data": {
      "text/html": [
       "<div>\n",
       "<style scoped>\n",
       "    .dataframe tbody tr th:only-of-type {\n",
       "        vertical-align: middle;\n",
       "    }\n",
       "\n",
       "    .dataframe tbody tr th {\n",
       "        vertical-align: top;\n",
       "    }\n",
       "\n",
       "    .dataframe thead th {\n",
       "        text-align: right;\n",
       "    }\n",
       "</style>\n",
       "<table border=\"1\" class=\"dataframe\">\n",
       "  <thead>\n",
       "    <tr style=\"text-align: right;\">\n",
       "      <th></th>\n",
       "      <th>ID</th>\n",
       "      <th>LIMIT_BAL</th>\n",
       "      <th>SEX</th>\n",
       "      <th>EDUCATION</th>\n",
       "      <th>MARRIAGE</th>\n",
       "      <th>AGE</th>\n",
       "      <th>SeptemberPay</th>\n",
       "      <th>AugustPay</th>\n",
       "      <th>JulyPay</th>\n",
       "      <th>JunePay</th>\n",
       "      <th>...</th>\n",
       "      <th>JuneBill</th>\n",
       "      <th>MayBill</th>\n",
       "      <th>AprilBill</th>\n",
       "      <th>SeptemberPayment</th>\n",
       "      <th>AugustPayment</th>\n",
       "      <th>JulyPayment</th>\n",
       "      <th>JunePayment</th>\n",
       "      <th>MayPayment</th>\n",
       "      <th>AprilPayment</th>\n",
       "      <th>default payment next month</th>\n",
       "    </tr>\n",
       "  </thead>\n",
       "  <tbody>\n",
       "    <tr>\n",
       "      <td>count</td>\n",
       "      <td>30000.000000</td>\n",
       "      <td>30000.000000</td>\n",
       "      <td>30000.000000</td>\n",
       "      <td>30000.000000</td>\n",
       "      <td>30000.000000</td>\n",
       "      <td>30000.000000</td>\n",
       "      <td>30000.000000</td>\n",
       "      <td>30000.000000</td>\n",
       "      <td>30000.000000</td>\n",
       "      <td>30000.000000</td>\n",
       "      <td>...</td>\n",
       "      <td>30000.000000</td>\n",
       "      <td>30000.000000</td>\n",
       "      <td>30000.000000</td>\n",
       "      <td>30000.000000</td>\n",
       "      <td>3.000000e+04</td>\n",
       "      <td>30000.00000</td>\n",
       "      <td>30000.000000</td>\n",
       "      <td>30000.000000</td>\n",
       "      <td>30000.000000</td>\n",
       "      <td>30000.000000</td>\n",
       "    </tr>\n",
       "    <tr>\n",
       "      <td>mean</td>\n",
       "      <td>15000.500000</td>\n",
       "      <td>167484.322667</td>\n",
       "      <td>1.603733</td>\n",
       "      <td>1.853133</td>\n",
       "      <td>1.551867</td>\n",
       "      <td>35.485500</td>\n",
       "      <td>-0.016700</td>\n",
       "      <td>-0.133767</td>\n",
       "      <td>-0.166200</td>\n",
       "      <td>-0.220667</td>\n",
       "      <td>...</td>\n",
       "      <td>43262.948967</td>\n",
       "      <td>40311.400967</td>\n",
       "      <td>38871.760400</td>\n",
       "      <td>5663.580500</td>\n",
       "      <td>5.921163e+03</td>\n",
       "      <td>5225.68150</td>\n",
       "      <td>4826.076867</td>\n",
       "      <td>4799.387633</td>\n",
       "      <td>5215.502567</td>\n",
       "      <td>0.221200</td>\n",
       "    </tr>\n",
       "    <tr>\n",
       "      <td>std</td>\n",
       "      <td>8660.398374</td>\n",
       "      <td>129747.661567</td>\n",
       "      <td>0.489129</td>\n",
       "      <td>0.790349</td>\n",
       "      <td>0.521970</td>\n",
       "      <td>9.217904</td>\n",
       "      <td>1.123802</td>\n",
       "      <td>1.197186</td>\n",
       "      <td>1.196868</td>\n",
       "      <td>1.169139</td>\n",
       "      <td>...</td>\n",
       "      <td>64332.856134</td>\n",
       "      <td>60797.155770</td>\n",
       "      <td>59554.107537</td>\n",
       "      <td>16563.280354</td>\n",
       "      <td>2.304087e+04</td>\n",
       "      <td>17606.96147</td>\n",
       "      <td>15666.159744</td>\n",
       "      <td>15278.305679</td>\n",
       "      <td>17777.465775</td>\n",
       "      <td>0.415062</td>\n",
       "    </tr>\n",
       "    <tr>\n",
       "      <td>min</td>\n",
       "      <td>1.000000</td>\n",
       "      <td>10000.000000</td>\n",
       "      <td>1.000000</td>\n",
       "      <td>0.000000</td>\n",
       "      <td>0.000000</td>\n",
       "      <td>21.000000</td>\n",
       "      <td>-2.000000</td>\n",
       "      <td>-2.000000</td>\n",
       "      <td>-2.000000</td>\n",
       "      <td>-2.000000</td>\n",
       "      <td>...</td>\n",
       "      <td>-170000.000000</td>\n",
       "      <td>-81334.000000</td>\n",
       "      <td>-339603.000000</td>\n",
       "      <td>0.000000</td>\n",
       "      <td>0.000000e+00</td>\n",
       "      <td>0.00000</td>\n",
       "      <td>0.000000</td>\n",
       "      <td>0.000000</td>\n",
       "      <td>0.000000</td>\n",
       "      <td>0.000000</td>\n",
       "    </tr>\n",
       "    <tr>\n",
       "      <td>25%</td>\n",
       "      <td>7500.750000</td>\n",
       "      <td>50000.000000</td>\n",
       "      <td>1.000000</td>\n",
       "      <td>1.000000</td>\n",
       "      <td>1.000000</td>\n",
       "      <td>28.000000</td>\n",
       "      <td>-1.000000</td>\n",
       "      <td>-1.000000</td>\n",
       "      <td>-1.000000</td>\n",
       "      <td>-1.000000</td>\n",
       "      <td>...</td>\n",
       "      <td>2326.750000</td>\n",
       "      <td>1763.000000</td>\n",
       "      <td>1256.000000</td>\n",
       "      <td>1000.000000</td>\n",
       "      <td>8.330000e+02</td>\n",
       "      <td>390.00000</td>\n",
       "      <td>296.000000</td>\n",
       "      <td>252.500000</td>\n",
       "      <td>117.750000</td>\n",
       "      <td>0.000000</td>\n",
       "    </tr>\n",
       "    <tr>\n",
       "      <td>50%</td>\n",
       "      <td>15000.500000</td>\n",
       "      <td>140000.000000</td>\n",
       "      <td>2.000000</td>\n",
       "      <td>2.000000</td>\n",
       "      <td>2.000000</td>\n",
       "      <td>34.000000</td>\n",
       "      <td>0.000000</td>\n",
       "      <td>0.000000</td>\n",
       "      <td>0.000000</td>\n",
       "      <td>0.000000</td>\n",
       "      <td>...</td>\n",
       "      <td>19052.000000</td>\n",
       "      <td>18104.500000</td>\n",
       "      <td>17071.000000</td>\n",
       "      <td>2100.000000</td>\n",
       "      <td>2.009000e+03</td>\n",
       "      <td>1800.00000</td>\n",
       "      <td>1500.000000</td>\n",
       "      <td>1500.000000</td>\n",
       "      <td>1500.000000</td>\n",
       "      <td>0.000000</td>\n",
       "    </tr>\n",
       "    <tr>\n",
       "      <td>75%</td>\n",
       "      <td>22500.250000</td>\n",
       "      <td>240000.000000</td>\n",
       "      <td>2.000000</td>\n",
       "      <td>2.000000</td>\n",
       "      <td>2.000000</td>\n",
       "      <td>41.000000</td>\n",
       "      <td>0.000000</td>\n",
       "      <td>0.000000</td>\n",
       "      <td>0.000000</td>\n",
       "      <td>0.000000</td>\n",
       "      <td>...</td>\n",
       "      <td>54506.000000</td>\n",
       "      <td>50190.500000</td>\n",
       "      <td>49198.250000</td>\n",
       "      <td>5006.000000</td>\n",
       "      <td>5.000000e+03</td>\n",
       "      <td>4505.00000</td>\n",
       "      <td>4013.250000</td>\n",
       "      <td>4031.500000</td>\n",
       "      <td>4000.000000</td>\n",
       "      <td>0.000000</td>\n",
       "    </tr>\n",
       "    <tr>\n",
       "      <td>max</td>\n",
       "      <td>30000.000000</td>\n",
       "      <td>1000000.000000</td>\n",
       "      <td>2.000000</td>\n",
       "      <td>6.000000</td>\n",
       "      <td>3.000000</td>\n",
       "      <td>79.000000</td>\n",
       "      <td>8.000000</td>\n",
       "      <td>8.000000</td>\n",
       "      <td>8.000000</td>\n",
       "      <td>8.000000</td>\n",
       "      <td>...</td>\n",
       "      <td>891586.000000</td>\n",
       "      <td>927171.000000</td>\n",
       "      <td>961664.000000</td>\n",
       "      <td>873552.000000</td>\n",
       "      <td>1.684259e+06</td>\n",
       "      <td>896040.00000</td>\n",
       "      <td>621000.000000</td>\n",
       "      <td>426529.000000</td>\n",
       "      <td>528666.000000</td>\n",
       "      <td>1.000000</td>\n",
       "    </tr>\n",
       "  </tbody>\n",
       "</table>\n",
       "<p>8 rows × 25 columns</p>\n",
       "</div>"
      ],
      "text/plain": [
       "                 ID       LIMIT_BAL           SEX     EDUCATION      MARRIAGE  \\\n",
       "count  30000.000000    30000.000000  30000.000000  30000.000000  30000.000000   \n",
       "mean   15000.500000   167484.322667      1.603733      1.853133      1.551867   \n",
       "std     8660.398374   129747.661567      0.489129      0.790349      0.521970   \n",
       "min        1.000000    10000.000000      1.000000      0.000000      0.000000   \n",
       "25%     7500.750000    50000.000000      1.000000      1.000000      1.000000   \n",
       "50%    15000.500000   140000.000000      2.000000      2.000000      2.000000   \n",
       "75%    22500.250000   240000.000000      2.000000      2.000000      2.000000   \n",
       "max    30000.000000  1000000.000000      2.000000      6.000000      3.000000   \n",
       "\n",
       "                AGE  SeptemberPay     AugustPay       JulyPay       JunePay  \\\n",
       "count  30000.000000  30000.000000  30000.000000  30000.000000  30000.000000   \n",
       "mean      35.485500     -0.016700     -0.133767     -0.166200     -0.220667   \n",
       "std        9.217904      1.123802      1.197186      1.196868      1.169139   \n",
       "min       21.000000     -2.000000     -2.000000     -2.000000     -2.000000   \n",
       "25%       28.000000     -1.000000     -1.000000     -1.000000     -1.000000   \n",
       "50%       34.000000      0.000000      0.000000      0.000000      0.000000   \n",
       "75%       41.000000      0.000000      0.000000      0.000000      0.000000   \n",
       "max       79.000000      8.000000      8.000000      8.000000      8.000000   \n",
       "\n",
       "       ...       JuneBill        MayBill      AprilBill  SeptemberPayment  \\\n",
       "count  ...   30000.000000   30000.000000   30000.000000      30000.000000   \n",
       "mean   ...   43262.948967   40311.400967   38871.760400       5663.580500   \n",
       "std    ...   64332.856134   60797.155770   59554.107537      16563.280354   \n",
       "min    ... -170000.000000  -81334.000000 -339603.000000          0.000000   \n",
       "25%    ...    2326.750000    1763.000000    1256.000000       1000.000000   \n",
       "50%    ...   19052.000000   18104.500000   17071.000000       2100.000000   \n",
       "75%    ...   54506.000000   50190.500000   49198.250000       5006.000000   \n",
       "max    ...  891586.000000  927171.000000  961664.000000     873552.000000   \n",
       "\n",
       "       AugustPayment   JulyPayment    JunePayment     MayPayment  \\\n",
       "count   3.000000e+04   30000.00000   30000.000000   30000.000000   \n",
       "mean    5.921163e+03    5225.68150    4826.076867    4799.387633   \n",
       "std     2.304087e+04   17606.96147   15666.159744   15278.305679   \n",
       "min     0.000000e+00       0.00000       0.000000       0.000000   \n",
       "25%     8.330000e+02     390.00000     296.000000     252.500000   \n",
       "50%     2.009000e+03    1800.00000    1500.000000    1500.000000   \n",
       "75%     5.000000e+03    4505.00000    4013.250000    4031.500000   \n",
       "max     1.684259e+06  896040.00000  621000.000000  426529.000000   \n",
       "\n",
       "        AprilPayment  default payment next month  \n",
       "count   30000.000000                30000.000000  \n",
       "mean     5215.502567                    0.221200  \n",
       "std     17777.465775                    0.415062  \n",
       "min         0.000000                    0.000000  \n",
       "25%       117.750000                    0.000000  \n",
       "50%      1500.000000                    0.000000  \n",
       "75%      4000.000000                    0.000000  \n",
       "max    528666.000000                    1.000000  \n",
       "\n",
       "[8 rows x 25 columns]"
      ]
     },
     "execution_count": 5,
     "metadata": {},
     "output_type": "execute_result"
    }
   ],
   "source": [
    "credit.describe()"
   ]
  },
  {
   "cell_type": "code",
   "execution_count": 6,
   "metadata": {
    "scrolled": true
   },
   "outputs": [
    {
     "name": "stdout",
     "output_type": "stream",
     "text": [
      "<class 'pandas.core.frame.DataFrame'>\n",
      "RangeIndex: 30000 entries, 0 to 29999\n",
      "Data columns (total 25 columns):\n",
      "ID                            30000 non-null int64\n",
      "LIMIT_BAL                     30000 non-null int64\n",
      "SEX                           30000 non-null int64\n",
      "EDUCATION                     30000 non-null int64\n",
      "MARRIAGE                      30000 non-null int64\n",
      "AGE                           30000 non-null int64\n",
      "SeptemberPay                  30000 non-null int64\n",
      "AugustPay                     30000 non-null int64\n",
      "JulyPay                       30000 non-null int64\n",
      "JunePay                       30000 non-null int64\n",
      "MayPay                        30000 non-null int64\n",
      "AprilPay                      30000 non-null int64\n",
      "SeptemberBill                 30000 non-null int64\n",
      "AugustBill                    30000 non-null int64\n",
      "JulyBill                      30000 non-null int64\n",
      "JuneBill                      30000 non-null int64\n",
      "MayBill                       30000 non-null int64\n",
      "AprilBill                     30000 non-null int64\n",
      "SeptemberPayment              30000 non-null int64\n",
      "AugustPayment                 30000 non-null int64\n",
      "JulyPayment                   30000 non-null int64\n",
      "JunePayment                   30000 non-null int64\n",
      "MayPayment                    30000 non-null int64\n",
      "AprilPayment                  30000 non-null int64\n",
      "default payment next month    30000 non-null int64\n",
      "dtypes: int64(25)\n",
      "memory usage: 5.7 MB\n"
     ]
    }
   ],
   "source": [
    "credit.info()"
   ]
  },
  {
   "cell_type": "code",
   "execution_count": 7,
   "metadata": {},
   "outputs": [],
   "source": [
    "credit = credit.astype({\"ID\":'category', \"SEX\":'category', \"EDUCATION\":'category', \"MARRIAGE\":'category', \"SeptemberPay\":'category', \"AugustPay\":'category', \"JulyPay\":'category', \"JunePay\":'category', \"MayPay\":'category', \"AprilPay\":'category', \"default payment next month\":'category'})\n"
   ]
  },
  {
   "cell_type": "markdown",
   "metadata": {},
   "source": [
    "I Changed the  following column type to category:"
   ]
  },
  {
   "cell_type": "code",
   "execution_count": 8,
   "metadata": {
    "scrolled": true
   },
   "outputs": [
    {
     "name": "stdout",
     "output_type": "stream",
     "text": [
      "<class 'pandas.core.frame.DataFrame'>\n",
      "RangeIndex: 30000 entries, 0 to 29999\n",
      "Data columns (total 25 columns):\n",
      "ID                            30000 non-null category\n",
      "LIMIT_BAL                     30000 non-null int64\n",
      "SEX                           30000 non-null category\n",
      "EDUCATION                     30000 non-null category\n",
      "MARRIAGE                      30000 non-null category\n",
      "AGE                           30000 non-null int64\n",
      "SeptemberPay                  30000 non-null category\n",
      "AugustPay                     30000 non-null category\n",
      "JulyPay                       30000 non-null category\n",
      "JunePay                       30000 non-null category\n",
      "MayPay                        30000 non-null category\n",
      "AprilPay                      30000 non-null category\n",
      "SeptemberBill                 30000 non-null int64\n",
      "AugustBill                    30000 non-null int64\n",
      "JulyBill                      30000 non-null int64\n",
      "JuneBill                      30000 non-null int64\n",
      "MayBill                       30000 non-null int64\n",
      "AprilBill                     30000 non-null int64\n",
      "SeptemberPayment              30000 non-null int64\n",
      "AugustPayment                 30000 non-null int64\n",
      "JulyPayment                   30000 non-null int64\n",
      "JunePayment                   30000 non-null int64\n",
      "MayPayment                    30000 non-null int64\n",
      "AprilPayment                  30000 non-null int64\n",
      "default payment next month    30000 non-null category\n",
      "dtypes: category(11), int64(14)\n",
      "memory usage: 5.0 MB\n"
     ]
    }
   ],
   "source": [
    "credit.info()"
   ]
  },
  {
   "cell_type": "markdown",
   "metadata": {},
   "source": [
    "Any Null values? to find null values use the following code: "
   ]
  },
  {
   "cell_type": "code",
   "execution_count": 10,
   "metadata": {},
   "outputs": [
    {
     "data": {
      "text/plain": [
       "False"
      ]
     },
     "execution_count": 10,
     "metadata": {},
     "output_type": "execute_result"
    }
   ],
   "source": [
    "credit.isnull().values.any()"
   ]
  },
  {
   "cell_type": "markdown",
   "metadata": {},
   "source": [
    "I discretized age to 5 age range categories: "
   ]
  },
  {
   "cell_type": "code",
   "execution_count": null,
   "metadata": {},
   "outputs": [],
   "source": [
    "credit['AGE'] = pd.qcut(credit['AGE'], q=5)"
   ]
  },
  {
   "cell_type": "code",
   "execution_count": 15,
   "metadata": {
    "scrolled": true
   },
   "outputs": [
    {
     "data": {
      "text/plain": [
       "count            30000\n",
       "unique               5\n",
       "top       (31.0, 37.0]\n",
       "freq              6728\n",
       "Name: AGE, dtype: object"
      ]
     },
     "execution_count": 15,
     "metadata": {},
     "output_type": "execute_result"
    }
   ],
   "source": [
    "credit['AGE'].describe()"
   ]
  },
  {
   "cell_type": "markdown",
   "metadata": {},
   "source": [
    "Some could consider putting all the \"other\" categories in education together. But watching their values (0,4,5,6) my guess is that they represent 0: no education 4: masters, 5: phD, 6: post-doctorate. So I wont pair them together. This could be clarified later by our client. "
   ]
  },
  {
   "cell_type": "markdown",
   "metadata": {},
   "source": [
    "<h2>Analysis</h2>"
   ]
  },
  {
   "cell_type": "code",
   "execution_count": 18,
   "metadata": {},
   "outputs": [],
   "source": [
    "credit = credit.rename(columns={\"default payment next month\": \"default\"})"
   ]
  },
  {
   "cell_type": "code",
   "execution_count": 19,
   "metadata": {},
   "outputs": [],
   "source": [
    "credit.default = credit.default.replace({0: 'NO',\n",
    "                                         1: 'YES'})"
   ]
  },
  {
   "cell_type": "markdown",
   "metadata": {},
   "source": [
    "I decided to change the name from: \"defualt payment next month\" to just \"default\".\n",
    "I also changed the values for that same column to be YES or NO, not 1 and 0, that is confusing.\n"
   ]
  },
  {
   "cell_type": "code",
   "execution_count": 22,
   "metadata": {},
   "outputs": [
    {
     "data": {
      "text/plain": [
       "0    YES\n",
       "1    YES\n",
       "2     NO\n",
       "3     NO\n",
       "4     NO\n",
       "Name: default, dtype: object"
      ]
     },
     "execution_count": 22,
     "metadata": {},
     "output_type": "execute_result"
    }
   ],
   "source": [
    "credit.head()"
   ]
  },
  {
   "cell_type": "code",
   "execution_count": 16,
   "metadata": {
    "scrolled": true
   },
   "outputs": [
    {
     "data": {
      "text/plain": [
       "SEX\n",
       "1    11888\n",
       "2    18112\n",
       "Name: SEX, dtype: int64"
      ]
     },
     "execution_count": 16,
     "metadata": {},
     "output_type": "execute_result"
    }
   ],
   "source": [
    "credit.groupby('SEX')['SEX'].count()"
   ]
  },
  {
   "cell_type": "code",
   "execution_count": 17,
   "metadata": {},
   "outputs": [],
   "source": [
    "credit.SEX = credit.SEX.replace({1: \"Male\",\n",
    "                                2: \"Female\"})"
   ]
  },
  {
   "cell_type": "markdown",
   "metadata": {},
   "source": [
    "I will change the values to Female and Male, because that is also confusing."
   ]
  },
  {
   "cell_type": "code",
   "execution_count": 23,
   "metadata": {},
   "outputs": [
    {
     "data": {
      "text/plain": [
       "0        Female\n",
       "1        Female\n",
       "2        Female\n",
       "3        Female\n",
       "4          Male\n",
       "          ...  \n",
       "29995      Male\n",
       "29996      Male\n",
       "29997      Male\n",
       "29998      Male\n",
       "29999      Male\n",
       "Name: SEX, Length: 30000, dtype: object"
      ]
     },
     "execution_count": 23,
     "metadata": {},
     "output_type": "execute_result"
    }
   ],
   "source": [
    "credit['SEX']"
   ]
  },
  {
   "cell_type": "code",
   "execution_count": 27,
   "metadata": {},
   "outputs": [
    {
     "data": {
      "text/plain": [
       "SEX\n",
       "Female    18112\n",
       "Male      11888\n",
       "Name: SEX, dtype: int64"
      ]
     },
     "execution_count": 27,
     "metadata": {},
     "output_type": "execute_result"
    }
   ],
   "source": [
    "credit.groupby('SEX')['SEX'].count()"
   ]
  },
  {
   "cell_type": "code",
   "execution_count": 35,
   "metadata": {},
   "outputs": [
    {
     "data": {
      "text/plain": [
       "<seaborn.axisgrid.FacetGrid at 0x1d45c9cf4c8>"
      ]
     },
     "execution_count": 35,
     "metadata": {},
     "output_type": "execute_result"
    },
    {
     "data": {
      "image/png": "[encoded data removed]",
      "text/plain": [
       "<Figure size 540x360 with 1 Axes>"
      ]
     },
     "metadata": {
      "needs_background": "light"
     },
     "output_type": "display_data"
    }
   ],
   "source": [
    "# Instead of a group by, use seaborn to see the male and female count. \n",
    "sns.set_palette('bright')\n",
    "fg = sns.catplot('SEX', data=credit, kind='count', aspect=1.5)\n",
    "fg.set_xlabels('Gender')"
   ]
  },
  {
   "cell_type": "markdown",
   "metadata": {},
   "source": [
    "I found the seaborn website and am using a bright color palette. \n",
    "https://seaborn.pydata.org/"
   ]
  },
  {
   "cell_type": "code",
   "execution_count": 52,
   "metadata": {},
   "outputs": [
    {
     "data": {
      "text/plain": [
       "<seaborn.axisgrid.FacetGrid at 0x1d45ed211c8>"
      ]
     },
     "execution_count": 52,
     "metadata": {},
     "output_type": "execute_result"
    },
    {
     "data": {
      "image/png": "[encoded data removed]",
      "text/plain": [
       "<Figure size 540x360 with 1 Axes>"
      ]
     },
     "metadata": {
      "needs_background": "light"
     },
     "output_type": "display_data"
    }
   ],
   "source": [
    "fg = sns.catplot('EDUCATION', data=credit, kind='count', aspect=1.5)\n",
    "fg.set_xlabels('Education')"
   ]
  },
  {
   "cell_type": "code",
   "execution_count": 36,
   "metadata": {},
   "outputs": [
    {
     "data": {
      "text/plain": [
       "<seaborn.axisgrid.FacetGrid at 0x1d45ce00488>"
      ]
     },
     "execution_count": 36,
     "metadata": {},
     "output_type": "execute_result"
    },
    {
     "data": {
      "image/png": "[encoded data removed]",
      "text/plain": [
       "<Figure size 540x360 with 1 Axes>"
      ]
     },
     "metadata": {
      "needs_background": "light"
     },
     "output_type": "display_data"
    }
   ],
   "source": [
    "fg = sns.catplot('MARRIAGE', data=credit, kind='count', aspect=1.5)\n",
    "fg.set_xlabels('Marriage')"
   ]
  },
  {
   "cell_type": "code",
   "execution_count": 38,
   "metadata": {},
   "outputs": [
    {
     "data": {
      "text/plain": [
       "<seaborn.axisgrid.FacetGrid at 0x1d45cb47608>"
      ]
     },
     "execution_count": 38,
     "metadata": {},
     "output_type": "execute_result"
    },
    {
     "data": {
      "image/png": "[encoded data removed]",
      "text/plain": [
       "<Figure size 702.625x360 with 1 Axes>"
      ]
     },
     "metadata": {
      "needs_background": "light"
     },
     "output_type": "display_data"
    }
   ],
   "source": [
    "g = sns.factorplot('EDUCATION', data=credit, hue='SEX', kind='count', aspect=1.75)\n",
    "g.set_xlabels('Distribution of Gender and Education')"
   ]
  },
  {
   "cell_type": "code",
   "execution_count": 66,
   "metadata": {},
   "outputs": [
    {
     "data": {
      "text/plain": [
       "<seaborn.axisgrid.FacetGrid at 0x1d461cb19c8>"
      ]
     },
     "execution_count": 66,
     "metadata": {},
     "output_type": "execute_result"
    },
    {
     "data": {
      "image/png": "[encoded data removed]",
      "text/plain": [
       "<Figure size 1872.62x360 with 1 Axes>"
      ]
     },
     "metadata": {
      "needs_background": "light"
     },
     "output_type": "display_data"
    }
   ],
   "source": [
    "g = sns.factorplot('AGE', data=credit, hue='SEX', kind='count', aspect=5)\n",
    "g.set_xlabels('Distribution of Gender and Age')"
   ]
  },
  {
   "cell_type": "code",
   "execution_count": 67,
   "metadata": {},
   "outputs": [
    {
     "data": {
      "text/plain": [
       "<seaborn.axisgrid.FacetGrid at 0x1d45f80f508>"
      ]
     },
     "execution_count": 67,
     "metadata": {},
     "output_type": "execute_result"
    },
    {
     "data": {
      "image/png": "[encoded data removed]",
      "text/plain": [
       "<Figure size 1854.5x360 with 1 Axes>"
      ]
     },
     "metadata": {
      "needs_background": "light"
     },
     "output_type": "display_data"
    }
   ],
   "source": [
    "g = sns.factorplot('AGE', data=credit, hue='default', kind='count', aspect=5)\n",
    "g.set_xlabels('Distribution of AGE and Default Payment')"
   ]
  },
  {
   "cell_type": "code",
   "execution_count": 54,
   "metadata": {},
   "outputs": [
    {
     "data": {
      "text/plain": [
       "<seaborn.axisgrid.FacetGrid at 0x1d45eea2688>"
      ]
     },
     "execution_count": 54,
     "metadata": {},
     "output_type": "execute_result"
    },
    {
     "data": {
      "image/png": "[encoded data removed]",
      "text/plain": [
       "<Figure size 1854.5x360 with 1 Axes>"
      ]
     },
     "metadata": {
      "needs_background": "light"
     },
     "output_type": "display_data"
    }
   ],
   "source": [
    "g = sns.factorplot('SEX', data=credit, hue='default', kind='count', aspect=5)\n",
    "g.set_xlabels('Gender and Default Payment')"
   ]
  },
  {
   "cell_type": "code",
   "execution_count": 25,
   "metadata": {},
   "outputs": [
    {
     "data": {
      "text/plain": [
       "<seaborn.axisgrid.FacetGrid at 0x26f5320b2c8>"
      ]
     },
     "execution_count": 25,
     "metadata": {},
     "output_type": "execute_result"
    },
    {
     "data": {
      "image/png": "[encoded data removed]",
      "text/plain": [
       "<Figure size 1854.5x360 with 1 Axes>"
      ]
     },
     "metadata": {
      "needs_background": "light"
     },
     "output_type": "display_data"
    }
   ],
   "source": [
    "g = sns.catplot('EDUCATION', data=credit, hue='default', kind='count', aspect=5)\n",
    "g.set_xlabels('Gender and Default Payment')"
   ]
  },
  {
   "cell_type": "code",
   "execution_count": 41,
   "metadata": {},
   "outputs": [
    {
     "name": "stdout",
     "output_type": "stream",
     "text": [
      "                  LIMIT_BAL       AGE  SeptemberBill  AugustBill  JulyBill  \\\n",
      "LIMIT_BAL          1.000000  0.144713       0.285430    0.278314  0.283236   \n",
      "AGE                0.144713  1.000000       0.056239    0.054283  0.053710   \n",
      "SeptemberBill      0.285430  0.056239       1.000000    0.951484  0.892279   \n",
      "AugustBill         0.278314  0.054283       0.951484    1.000000  0.928326   \n",
      "JulyBill           0.283236  0.053710       0.892279    0.928326  1.000000   \n",
      "JuneBill           0.293988  0.051353       0.860272    0.892482  0.923969   \n",
      "MayBill            0.295562  0.049345       0.829779    0.859778  0.883910   \n",
      "AprilBill          0.290389  0.047613       0.802650    0.831594  0.853320   \n",
      "SeptemberPayment   0.195236  0.026147       0.140277    0.280365  0.244335   \n",
      "AugustPayment      0.178408  0.021785       0.099355    0.100851  0.316936   \n",
      "JulyPayment        0.210167  0.029247       0.156887    0.150718  0.130011   \n",
      "JunePayment        0.203242  0.021379       0.158303    0.147398  0.143405   \n",
      "MayPayment         0.217202  0.022850       0.167026    0.157957  0.179712   \n",
      "AprilPayment       0.219595  0.019478       0.179341    0.174256  0.182326   \n",
      "amount_past_due    0.256616  0.050634       0.939610    0.956555  0.945170   \n",
      "\n",
      "                  JuneBill   MayBill  AprilBill  SeptemberPayment  \\\n",
      "LIMIT_BAL         0.293988  0.295562   0.290389          0.195236   \n",
      "AGE               0.051353  0.049345   0.047613          0.026147   \n",
      "SeptemberBill     0.860272  0.829779   0.802650          0.140277   \n",
      "AugustBill        0.892482  0.859778   0.831594          0.280365   \n",
      "JulyBill          0.923969  0.883910   0.853320          0.244335   \n",
      "JuneBill          1.000000  0.940134   0.900941          0.233012   \n",
      "MayBill           0.940134  1.000000   0.946197          0.217031   \n",
      "AprilBill         0.900941  0.946197   1.000000          0.199965   \n",
      "SeptemberPayment  0.233012  0.217031   0.199965          1.000000   \n",
      "AugustPayment     0.207564  0.181246   0.172663          0.285576   \n",
      "JulyPayment       0.300023  0.252305   0.233770          0.252191   \n",
      "JunePayment       0.130191  0.293118   0.250237          0.199558   \n",
      "MayPayment        0.160433  0.141574   0.307729          0.148459   \n",
      "AprilPayment      0.177637  0.164184   0.115494          0.185735   \n",
      "amount_past_due   0.948651  0.934383   0.909855          0.140549   \n",
      "\n",
      "                  AugustPayment  JulyPayment  JunePayment  MayPayment  \\\n",
      "LIMIT_BAL              0.178408     0.210167     0.203242    0.217202   \n",
      "AGE                    0.021785     0.029247     0.021379    0.022850   \n",
      "SeptemberBill          0.099355     0.156887     0.158303    0.167026   \n",
      "AugustBill             0.100851     0.150718     0.147398    0.157957   \n",
      "JulyBill               0.316936     0.130011     0.143405    0.179712   \n",
      "JuneBill               0.207564     0.300023     0.130191    0.160433   \n",
      "MayBill                0.181246     0.252305     0.293118    0.141574   \n",
      "AprilBill              0.172663     0.233770     0.250237    0.307729   \n",
      "SeptemberPayment       0.285576     0.252191     0.199558    0.148459   \n",
      "AugustPayment          1.000000     0.244770     0.180107    0.180908   \n",
      "JulyPayment            0.244770     1.000000     0.216325    0.159214   \n",
      "JunePayment            0.180107     0.216325     1.000000    0.151830   \n",
      "MayPayment             0.180908     0.159214     0.151830    1.000000   \n",
      "AprilPayment           0.157634     0.162740     0.157834    0.154896   \n",
      "amount_past_due        0.084425     0.120386     0.113271    0.119555   \n",
      "\n",
      "                  AprilPayment  amount_past_due  \n",
      "LIMIT_BAL             0.219595         0.256616  \n",
      "AGE                   0.019478         0.050634  \n",
      "SeptemberBill         0.179341         0.939610  \n",
      "AugustBill            0.174256         0.956555  \n",
      "JulyBill              0.182326         0.945170  \n",
      "JuneBill              0.177637         0.948651  \n",
      "MayBill               0.164184         0.934383  \n",
      "AprilBill             0.115494         0.909855  \n",
      "SeptemberPayment      0.185735         0.140549  \n",
      "AugustPayment         0.157634         0.084425  \n",
      "JulyPayment           0.162740         0.120386  \n",
      "JunePayment           0.157834         0.113271  \n",
      "MayPayment            0.154896         0.119555  \n",
      "AprilPayment          1.000000         0.094586  \n",
      "amount_past_due       0.094586         1.000000  \n"
     ]
    }
   ],
   "source": [
    "corrMat = credit.corr()\n",
    "print(corrMat)"
   ]
  },
  {
   "cell_type": "code",
   "execution_count": 42,
   "metadata": {},
   "outputs": [
    {
     "name": "stdout",
     "output_type": "stream",
     "text": [
      "                     LIMIT_BAL            AGE  SeptemberBill    AugustBill  \\\n",
      "LIMIT_BAL         1.683446e+10  173076.722569   2.727020e+09  2.570130e+09   \n",
      "AGE               1.730767e+05      84.969755   3.817293e+04  3.561366e+04   \n",
      "SeptemberBill     2.727020e+09   38172.933546   5.422240e+09  4.986670e+09   \n",
      "AugustBill        2.570130e+09   35613.657962   4.986670e+09  5.065705e+09   \n",
      "JulyBill          2.548533e+09   34334.251320   4.556511e+09  4.582086e+09   \n",
      "JuneBill          2.453926e+09   30453.108180   4.075286e+09  4.086508e+09   \n",
      "MayBill           2.331481e+09   27654.067800   3.714795e+09  3.720401e+09   \n",
      "AprilBill         2.243837e+09   26137.648547   3.519876e+09  3.524868e+09   \n",
      "SeptemberPayment  4.195711e+08    3992.041735   1.710894e+08  3.305146e+08   \n",
      "AugustPayment     5.333504e+08    4626.861549   1.685692e+08  1.653859e+08   \n",
      "JulyPayment       4.801180e+08    4746.824393   2.034048e+08  1.888731e+08   \n",
      "JunePayment       4.131202e+08    3087.324192   1.826164e+08  1.643518e+08   \n",
      "MayPayment        4.305657e+08    3218.052172   1.879091e+08  1.717652e+08   \n",
      "AprilPayment      5.065153e+08    3191.903901   2.347681e+08  2.204845e+08   \n",
      "amount_past_due   1.209169e+10  169502.659412   2.512702e+10  2.472486e+10   \n",
      "\n",
      "                      JulyBill      JuneBill       MayBill     AprilBill  \\\n",
      "LIMIT_BAL         2.548533e+09  2.453926e+09  2.331481e+09  2.243837e+09   \n",
      "AGE               3.433425e+04  3.045311e+04  2.765407e+04  2.613765e+04   \n",
      "SeptemberBill     4.556511e+09  4.075286e+09  3.714795e+09  3.519876e+09   \n",
      "AugustBill        4.582086e+09  4.086508e+09  3.720401e+09  3.524868e+09   \n",
      "JulyBill          4.809338e+09  4.122238e+09  3.726780e+09  3.524247e+09   \n",
      "JuneBill          4.122238e+09  4.138716e+09  3.677105e+09  3.451762e+09   \n",
      "MayBill           3.726780e+09  3.677105e+09  3.696294e+09  3.425914e+09   \n",
      "AprilBill         3.524247e+09  3.451762e+09  3.425914e+09  3.546692e+09   \n",
      "SeptemberPayment  2.806565e+08  2.482888e+08  2.185501e+08  1.972478e+08   \n",
      "AugustPayment     5.064226e+08  3.076686e+08  2.538936e+08  2.369244e+08   \n",
      "JulyPayment       1.587478e+08  3.398374e+08  2.700805e+08  2.451233e+08   \n",
      "JunePayment       1.558003e+08  1.312133e+08  2.791830e+08  2.334670e+08   \n",
      "MayPayment        1.904126e+08  1.576892e+08  1.315051e+08  2.799982e+08   \n",
      "AprilPayment      2.247817e+08  2.031590e+08  1.774537e+08  1.222761e+08   \n",
      "amount_past_due   2.380438e+10  2.216376e+10  2.063062e+10  1.967832e+10   \n",
      "\n",
      "                  SeptemberPayment  AugustPayment   JulyPayment   JunePayment  \\\n",
      "LIMIT_BAL             4.195711e+08   5.333504e+08  4.801180e+08  4.131202e+08   \n",
      "AGE                   3.992042e+03   4.626862e+03  4.746824e+03  3.087324e+03   \n",
      "SeptemberBill         1.710894e+08   1.685692e+08  2.034048e+08  1.826164e+08   \n",
      "AugustBill            3.305146e+08   1.653859e+08  1.888731e+08  1.643518e+08   \n",
      "JulyBill              2.806565e+08   5.064226e+08  1.587478e+08  1.558003e+08   \n",
      "JuneBill              2.482888e+08   3.076686e+08  3.398374e+08  1.312133e+08   \n",
      "MayBill               2.185501e+08   2.538936e+08  2.700805e+08  2.791830e+08   \n",
      "AprilBill             1.972478e+08   2.369244e+08  2.451233e+08  2.334670e+08   \n",
      "SeptemberPayment      2.743423e+08   1.089849e+08  7.354626e+07  5.178189e+07   \n",
      "AugustPayment         1.089849e+08   5.308817e+08  9.929841e+07  6.501168e+07   \n",
      "JulyPayment           7.354626e+07   9.929841e+07  3.100051e+08  5.966970e+07   \n",
      "JunePayment           5.178189e+07   6.501168e+07  5.966970e+07  2.454286e+08   \n",
      "MayPayment            3.756893e+07   6.368414e+07  4.282921e+07  3.634098e+07   \n",
      "AprilPayment          5.469033e+07   6.456816e+07  5.093879e+07  4.395747e+07   \n",
      "amount_past_due       8.454326e+08   7.064352e+08  7.697793e+08  6.444415e+08   \n",
      "\n",
      "                    MayPayment  AprilPayment  amount_past_due  \n",
      "LIMIT_BAL         4.305657e+08  5.065153e+08     1.209169e+10  \n",
      "AGE               3.218052e+03  3.191904e+03     1.695027e+05  \n",
      "SeptemberBill     1.879091e+08  2.347681e+08     2.512702e+10  \n",
      "AugustBill        1.717652e+08  2.204845e+08     2.472486e+10  \n",
      "JulyBill          1.904126e+08  2.247817e+08     2.380438e+10  \n",
      "JuneBill          1.576892e+08  2.031590e+08     2.216376e+10  \n",
      "MayBill           1.315051e+08  1.774537e+08     2.063062e+10  \n",
      "AprilBill         2.799982e+08  1.222761e+08     1.967832e+10  \n",
      "SeptemberPayment  3.756893e+07  5.469033e+07     8.454326e+08  \n",
      "AugustPayment     6.368414e+07  6.456816e+07     7.064352e+08  \n",
      "JulyPayment       4.282921e+07  5.093879e+07     7.697793e+08  \n",
      "JunePayment       3.634098e+07  4.395747e+07     6.444415e+08  \n",
      "MayPayment        2.334266e+08  4.207110e+07     6.633584e+08  \n",
      "AprilPayment      4.207110e+07  3.160383e+08     6.106590e+08  \n",
      "amount_past_due   6.633584e+08  6.106590e+08     1.318889e+11  \n"
     ]
    }
   ],
   "source": [
    "covMat = credit.cov()\n",
    "print(covMat)"
   ]
  },
  {
   "cell_type": "markdown",
   "metadata": {},
   "source": [
    "Target leakage: cuando creamos un modelo usadno variables que no vamos a tener e el momento de la prediccion "
   ]
  },
  {
   "cell_type": "markdown",
   "metadata": {},
   "source": [
    "In the correlation Matrix, some columns are not there because they are categorical and not numeric. "
   ]
  },
  {
   "cell_type": "markdown",
   "metadata": {},
   "source": [
    "**Did you learn anything of potential business value from this analysis?**\n",
    "Sure. Doing reports this way is very useful for business. Both RStudio and Python have plenty of libraries for different uses, but I believe Python is thebest way to go. More varied userbase. \n",
    "**What are the main lessons you've learned from this experience?**\n",
    "Seaborn was very interesting to find. The Exploratory Analysis framework really open my perspective to the way to do things in a professional manner. \n",
    "**What recommendations would you give to the Data Science team regarding your findings?**\n",
    "I would like to distribute age defferently, since there could be a trend there that I am not finding because of using qcut and evenly distributing them. \n",
    "There definitely seems to be a correlation between education and default. "
   ]
  }
 ],
 "metadata": {
  "kernelspec": {
   "display_name": "Python 3",
   "language": "python",
   "name": "python3"
  },
  "language_info": {
   "codemirror_mode": {
    "name": "ipython",
    "version": 3
   },
   "file_extension": ".py",
   "mimetype": "text/x-python",
   "name": "python",
   "nbconvert_exporter": "python",
   "pygments_lexer": "ipython3",
   "version": "3.7.4"
  }
 },
 "nbformat": 4,
 "nbformat_minor": 2
}
